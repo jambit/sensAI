{
 "cells": [
  {
   "cell_type": "markdown",
   "metadata": {
    "collapsed": true,
    "pycharm": {
     "name": "#%% md\n"
    }
   },
   "source": [
    "# Evaluating clustering algorithms\n",
    "\n",
    "The present library contains utilities for evaluating different clustering algorithms\n",
    "(with or without ground truth labels). On top of the evaluation utilities there are classes for\n",
    "performing parameters sweeps and model selection. Here we give an overview of the most important functionality\n",
    "\n",
    "\n",
    "## Before running the notebook\n",
    "\n",
    "Install the library and its dependencies with, if you haven't done so already\n",
    "```\n",
    "pip install -e .\n",
    "```\n",
    "from the root directory. You can also execute this command directly in the notebook but will need to reload the\n",
    "kernel afterwards"
   ]
  },
  {
   "cell_type": "code",
   "execution_count": 1,
   "metadata": {
    "pycharm": {
     "name": "#%%\n"
    }
   },
   "outputs": [],
   "source": [
    "# Note - this cell should be executed only once per session\n",
    "%load_ext autoreload\n",
    "%autoreload 2\n",
    "\n",
    "import sys, os\n",
    "\n",
    "# in order to get the config, it is not part of the library\n",
    "os.chdir(\"..\")\n",
    "sys.path.append(os.path.abspath(\".\"))"
   ]
  },
  {
   "cell_type": "code",
   "execution_count": 2,
   "metadata": {
    "pycharm": {
     "name": "#%%\n"
    }
   },
   "outputs": [],
   "source": [
    "import numpy as np\n",
    "import os\n",
    "from pprint import pprint\n",
    "from sklearn.cluster import DBSCAN\n",
    "import seaborn as sns\n",
    "import geopandas as gp\n",
    "import matplotlib.pyplot as plt\n",
    "import logging\n",
    "\n",
    "from sensai.clustering.coordinate_clustering import SKLearnCoordinateClustering\n",
    "from sensai.hyperopt import GridSearch\n",
    "from sensai.evaluation.evaluator_clustering import ClusteringModelSupervisedEvaluator, \\\n",
    "    ClusteringModelUnsupervisedEvaluator\n",
    "from sensai.evaluation.eval_stats import ClusteringUnsupervisedEvalStats, ClusteringSupervisedEvalStats, \\\n",
    "    AdjustedMutualInfoScore\n",
    "from sensai.evaluation.clustering_ground_truth import PolygonAnnotatedCoordinates\n",
    "\n",
    "from config import get_config\n",
    "\n",
    "logging.basicConfig(level=logging.INFO)"
   ]
  },
  {
   "cell_type": "code",
   "execution_count": 3,
   "metadata": {
    "pycharm": {
     "name": "#%%\n"
    }
   },
   "outputs": [
    {
     "name": "stderr",
     "output_type": "stream",
     "text": [
      "INFO:config.__Configuration:Reading configuration from /home/runner/work/sensAI/sensAI/config.json\n"
     ]
    }
   ],
   "source": [
    "# loading data and config\n",
    "c  = get_config(reload=True)\n",
    "sampleFile = c.datafile_path(\"sample\", stage=c.RAW) # this can point to a directory or a shp/geojson file\n",
    "coordinatesDF = gp.read_file(sampleFile)"
   ]
  },
  {
   "cell_type": "markdown",
   "metadata": {
    "pycharm": {
     "name": "#%% md\n"
    }
   },
   "source": [
    "## Evaluating a single model\n",
    "\n",
    "For a single model that was already fitted, evaluation statistics can be extracted with `ClusteringEvalStats`, see the\n",
    "example below (the eval_stats object can also be used to retrieve evaluation results one by one)\n"
   ]
  },
  {
   "cell_type": "code",
   "execution_count": 4,
   "metadata": {
    "pycharm": {
     "name": "#%%\n"
    }
   },
   "outputs": [
    {
     "name": "stderr",
     "output_type": "stream",
     "text": [
      "INFO:sensai.clustering.base.clustering:Fitting SKLearnCoordinateClustering to 78782 coordinate datapoints.\n"
     ]
    },
    {
     "name": "stderr",
     "output_type": "stream",
     "text": [
      "INFO:sensai.clustering.base.clustering:SKLearnCoordinateClustering found 477 clusters\n"
     ]
    },
    {
     "name": "stderr",
     "output_type": "stream",
     "text": [
      "INFO:sensai.util.tracking:Finished execution of getAll in 0.36s\n"
     ]
    },
    {
     "name": "stdout",
     "output_type": "stream",
     "text": [
      "{'CalinskiHarabaszScore': 189507.73108614382,\n",
      " 'DaviesBouldinScore': 0.4281783403733455,\n",
      " 'averageClusterSize': 57.36058700209644,\n",
      " 'clusterSizeStd': 102.89757968842169,\n",
      " 'maxClusterSize': 1983,\n",
      " 'medianClusterSize': 34.0,\n",
      " 'minClusterSize': 10,\n",
      " 'noiseClusterSize': 51421,\n",
      " 'numClusters': 477}\n"
     ]
    },
    {
     "data": {
      "image/png": "[encoded data removed]",
      "text/plain": [
       "<Figure size 432x288 with 1 Axes>"
      ]
     },
     "metadata": {
      "needs_background": "light"
     },
     "output_type": "display_data"
    }
   ],
   "source": [
    "dbscan = SKLearnCoordinateClustering(DBSCAN(eps=150, min_samples=20))\n",
    "dbscan.fit(coordinatesDF)\n",
    "evalStats = ClusteringUnsupervisedEvalStats.fromModel(dbscan)\n",
    "pprint(evalStats.getAll())\n",
    "plt.hist(evalStats.clusterSizeDistribution)\n",
    "plt.show()"
   ]
  },
  {
   "cell_type": "markdown",
   "metadata": {
    "pycharm": {
     "name": "#%% md\n"
    }
   },
   "source": [
    "## Model selection\n",
    "\n",
    "For model selection we need to compare different (or differently parametrized) models that were\n",
    "trained on the same dataset. The `ClusteringEvaluator` abstraction was designed with this goal in mind.\n",
    "The evaluator can be used to obtain evaluation statistics for different models that are guaranteed\n",
    "to be comparable with each other (always computed by the same object in the same way). Here an example evaluating\n",
    "a dbscan performance on metrics that don't necessitate ground truth labels"
   ]
  },
  {
   "cell_type": "code",
   "execution_count": 5,
   "metadata": {
    "pycharm": {
     "name": "#%%\n"
    }
   },
   "outputs": [],
   "source": [
    "modelEvaluator = ClusteringModelUnsupervisedEvaluator(coordinatesDF)\n",
    "\n",
    "dbscanEvalStats = modelEvaluator.evalModel(dbscan, fit=False)  # dbscan was already fitted on this data"
   ]
  },
  {
   "cell_type": "code",
   "execution_count": 6,
   "metadata": {
    "pycharm": {
     "name": "#%%\n"
    }
   },
   "outputs": [
    {
     "name": "stdout",
     "output_type": "stream",
     "text": [
      "dbscan_performance: \n",
      "\n"
     ]
    },
    {
     "name": "stderr",
     "output_type": "stream",
     "text": [
      "INFO:sensai.util.tracking:Finished execution of getAll in 0.27s\n"
     ]
    },
    {
     "name": "stdout",
     "output_type": "stream",
     "text": [
      "{'CalinskiHarabaszScore': 189507.73108614382,\n",
      " 'DaviesBouldinScore': 0.4281783403733455,\n",
      " 'averageClusterSize': 57.36058700209644,\n",
      " 'clusterSizeStd': 102.89757968842169,\n",
      " 'maxClusterSize': 1983,\n",
      " 'medianClusterSize': 34.0,\n",
      " 'minClusterSize': 10,\n",
      " 'noiseClusterSize': 51421,\n",
      " 'numClusters': 477}\n"
     ]
    }
   ],
   "source": [
    "print(\"dbscan_performance: \\n\")\n",
    "pprint(dbscanEvalStats.getAll())"
   ]
  },
  {
   "cell_type": "markdown",
   "metadata": {
    "pycharm": {
     "name": "#%% md\n"
    }
   },
   "source": [
    "One of the main purposes of evaluators is to be used within classes that perform a parameter sweep, e.g.\n",
    "a `GridSearch`. All such objects return a data frame and (optionally but recommended!) persist all evaluation results\n",
    "in a csv."
   ]
  },
  {
   "cell_type": "code",
   "execution_count": 7,
   "metadata": {
    "pycharm": {
     "name": "#%%\n"
    }
   },
   "outputs": [
    {
     "name": "stderr",
     "output_type": "stream",
     "text": [
      "INFO:config:Configured directory temp='/home/runner/work/sensAI/sensAI/temp' not found; will create it\n"
     ]
    },
    {
     "name": "stderr",
     "output_type": "stream",
     "text": [
      "INFO:sensai.hyperopt:Created GridSearch object for 4 parameter combinations\n"
     ]
    }
   ],
   "source": [
    "parameterOptions = {\n",
    "    \"min_samples\": [10, 20],\n",
    "    \"eps\": [50, 150]\n",
    "}\n",
    "\n",
    "# for running the grid search in multiple processes, all objects need to be picklable.\n",
    "# Therefore we pass a named function as model factory instead of a lambda\n",
    "def dbscanFactory(**kwargs):\n",
    "    return SKLearnCoordinateClustering(DBSCAN(**kwargs))\n",
    "\n",
    "dbscanGridSearch = GridSearch(dbscanFactory, parameterOptions, csvResultsPath=os.path.join(c.temp, \"dbscanGridSearchCsv\"))"
   ]
  },
  {
   "cell_type": "code",
   "execution_count": 8,
   "metadata": {
    "pycharm": {
     "name": "#%%\n"
    }
   },
   "outputs": [
    {
     "name": "stderr",
     "output_type": "stream",
     "text": [
      "INFO:sensai.hyperopt.GridSearch:Evaluating {'min_samples': 10, 'eps': 50}\n"
     ]
    },
    {
     "name": "stderr",
     "output_type": "stream",
     "text": [
      "INFO:sensai.clustering.base.clustering:Fitting SKLearnCoordinateClustering to 78782 coordinate datapoints.\n"
     ]
    },
    {
     "name": "stderr",
     "output_type": "stream",
     "text": [
      "INFO:sensai.clustering.base.clustering:SKLearnCoordinateClustering found 234 clusters\n"
     ]
    },
    {
     "name": "stderr",
     "output_type": "stream",
     "text": [
      "INFO:sensai.util.tracking:Finished execution of getAll in 0.10s\n"
     ]
    },
    {
     "name": "stderr",
     "output_type": "stream",
     "text": [
      "INFO:sensai.util.tracking:Finished execution of _computeMetrics in 8.86s\n"
     ]
    },
    {
     "name": "stderr",
     "output_type": "stream",
     "text": [
      "INFO:sensai.hyperopt:Updated grid search result:\n",
      "  numClusters  CalinskiHarabaszScore  DaviesBouldinScore  averageClusterSize  clusterSizeStd maxClusterSize minClusterSize  medianClusterSize noiseClusterSize                   str(model) min_samples eps\n",
      "0         234          438386.535007            0.293545           36.012821       90.293419           1288              7               17.0            70355  SKLearnCoordinateClustering          10  50\n"
     ]
    },
    {
     "name": "stderr",
     "output_type": "stream",
     "text": [
      "INFO:sensai.hyperopt.GridSearch:Evaluating {'min_samples': 10, 'eps': 150}\n"
     ]
    },
    {
     "name": "stderr",
     "output_type": "stream",
     "text": [
      "INFO:sensai.clustering.base.clustering:Fitting SKLearnCoordinateClustering to 78782 coordinate datapoints.\n"
     ]
    },
    {
     "name": "stderr",
     "output_type": "stream",
     "text": [
      "INFO:sensai.clustering.base.clustering:SKLearnCoordinateClustering found 1057 clusters\n"
     ]
    },
    {
     "name": "stderr",
     "output_type": "stream",
     "text": [
      "INFO:sensai.util.tracking:Finished execution of getAll in 0.91s\n"
     ]
    },
    {
     "name": "stderr",
     "output_type": "stream",
     "text": [
      "INFO:sensai.util.tracking:Finished execution of _computeMetrics in 10.04s\n"
     ]
    },
    {
     "name": "stderr",
     "output_type": "stream",
     "text": [
      "INFO:sensai.hyperopt:Updated grid search result:\n",
      "  numClusters  CalinskiHarabaszScore  DaviesBouldinScore  averageClusterSize  clusterSizeStd maxClusterSize minClusterSize  medianClusterSize noiseClusterSize                   str(model) min_samples  eps\n",
      "0        1057           28889.286349            0.602208           56.362346      134.804446           2135              4               22.0            19207  SKLearnCoordinateClustering          10  150\n",
      "1         234          438386.535007            0.293545           36.012821       90.293419           1288              7               17.0            70355  SKLearnCoordinateClustering          10   50\n"
     ]
    },
    {
     "name": "stderr",
     "output_type": "stream",
     "text": [
      "INFO:sensai.hyperopt.GridSearch:Evaluating {'min_samples': 20, 'eps': 50}\n"
     ]
    },
    {
     "name": "stderr",
     "output_type": "stream",
     "text": [
      "INFO:sensai.clustering.base.clustering:Fitting SKLearnCoordinateClustering to 78782 coordinate datapoints.\n"
     ]
    },
    {
     "name": "stderr",
     "output_type": "stream",
     "text": [
      "INFO:sensai.clustering.base.clustering:SKLearnCoordinateClustering found 36 clusters\n"
     ]
    },
    {
     "name": "stderr",
     "output_type": "stream",
     "text": [
      "INFO:sensai.util.tracking:Finished execution of getAll in 0.01s\n"
     ]
    },
    {
     "name": "stderr",
     "output_type": "stream",
     "text": [
      "INFO:sensai.util.tracking:Finished execution of _computeMetrics in 7.09s\n"
     ]
    },
    {
     "name": "stderr",
     "output_type": "stream",
     "text": [
      "INFO:sensai.hyperopt:Updated grid search result:\n",
      "  numClusters  CalinskiHarabaszScore  DaviesBouldinScore  averageClusterSize  clusterSizeStd maxClusterSize minClusterSize  medianClusterSize noiseClusterSize                   str(model) min_samples  eps\n",
      "0        1057           2.888929e+04            0.602208           56.362346      134.804446           2135              4               22.0            19207  SKLearnCoordinateClustering          10  150\n",
      "1         234           4.383865e+05            0.293545           36.012821       90.293419           1288              7               17.0            70355  SKLearnCoordinateClustering          10   50\n",
      "2          36           1.646224e+06            0.278540           65.777778       97.948998            568             20               34.0            76414  SKLearnCoordinateClustering          20   50\n"
     ]
    },
    {
     "name": "stderr",
     "output_type": "stream",
     "text": [
      "INFO:sensai.hyperopt.GridSearch:Evaluating {'min_samples': 20, 'eps': 150}\n"
     ]
    },
    {
     "name": "stderr",
     "output_type": "stream",
     "text": [
      "INFO:sensai.clustering.base.clustering:Fitting SKLearnCoordinateClustering to 78782 coordinate datapoints.\n"
     ]
    },
    {
     "name": "stderr",
     "output_type": "stream",
     "text": [
      "INFO:sensai.clustering.base.clustering:SKLearnCoordinateClustering found 477 clusters\n"
     ]
    },
    {
     "name": "stderr",
     "output_type": "stream",
     "text": [
      "INFO:sensai.util.tracking:Finished execution of getAll in 0.20s\n"
     ]
    },
    {
     "name": "stderr",
     "output_type": "stream",
     "text": [
      "INFO:sensai.util.tracking:Finished execution of _computeMetrics in 6.33s\n"
     ]
    },
    {
     "name": "stderr",
     "output_type": "stream",
     "text": [
      "INFO:sensai.hyperopt:Updated grid search result:\n",
      "  numClusters  CalinskiHarabaszScore  DaviesBouldinScore  averageClusterSize  clusterSizeStd maxClusterSize minClusterSize  medianClusterSize noiseClusterSize                   str(model) min_samples  eps\n",
      "0        1057           2.888929e+04            0.602208           56.362346      134.804446           2135              4               22.0            19207  SKLearnCoordinateClustering          10  150\n",
      "1         477           1.895077e+05            0.428178           57.360587      102.897580           1983             10               34.0            51421  SKLearnCoordinateClustering          20  150\n",
      "2         234           4.383865e+05            0.293545           36.012821       90.293419           1288              7               17.0            70355  SKLearnCoordinateClustering          10   50\n",
      "3          36           1.646224e+06            0.278540           65.777778       97.948998            568             20               34.0            76414  SKLearnCoordinateClustering          20   50\n"
     ]
    },
    {
     "data": {
      "text/html": [
       "<div>\n",
       "<style scoped>\n",
       "    .dataframe tbody tr th:only-of-type {\n",
       "        vertical-align: middle;\n",
       "    }\n",
       "\n",
       "    .dataframe tbody tr th {\n",
       "        vertical-align: top;\n",
       "    }\n",
       "\n",
       "    .dataframe thead th {\n",
       "        text-align: right;\n",
       "    }\n",
       "</style>\n",
       "<table border=\"1\" class=\"dataframe\">\n",
       "  <thead>\n",
       "    <tr style=\"text-align: right;\">\n",
       "      <th></th>\n",
       "      <th>numClusters</th>\n",
       "      <th>CalinskiHarabaszScore</th>\n",
       "      <th>DaviesBouldinScore</th>\n",
       "      <th>averageClusterSize</th>\n",
       "      <th>clusterSizeStd</th>\n",
       "      <th>maxClusterSize</th>\n",
       "      <th>minClusterSize</th>\n",
       "      <th>medianClusterSize</th>\n",
       "      <th>noiseClusterSize</th>\n",
       "      <th>str(model)</th>\n",
       "      <th>min_samples</th>\n",
       "      <th>eps</th>\n",
       "    </tr>\n",
       "  </thead>\n",
       "  <tbody>\n",
       "    <tr>\n",
       "      <th>0</th>\n",
       "      <td>1057</td>\n",
       "      <td>2.888929e+04</td>\n",
       "      <td>0.602208</td>\n",
       "      <td>56.362346</td>\n",
       "      <td>134.804446</td>\n",
       "      <td>2135</td>\n",
       "      <td>4</td>\n",
       "      <td>22.0</td>\n",
       "      <td>19207</td>\n",
       "      <td>SKLearnCoordinateClustering</td>\n",
       "      <td>10</td>\n",
       "      <td>150</td>\n",
       "    </tr>\n",
       "    <tr>\n",
       "      <th>1</th>\n",
       "      <td>477</td>\n",
       "      <td>1.895077e+05</td>\n",
       "      <td>0.428178</td>\n",
       "      <td>57.360587</td>\n",
       "      <td>102.897580</td>\n",
       "      <td>1983</td>\n",
       "      <td>10</td>\n",
       "      <td>34.0</td>\n",
       "      <td>51421</td>\n",
       "      <td>SKLearnCoordinateClustering</td>\n",
       "      <td>20</td>\n",
       "      <td>150</td>\n",
       "    </tr>\n",
       "    <tr>\n",
       "      <th>2</th>\n",
       "      <td>234</td>\n",
       "      <td>4.383865e+05</td>\n",
       "      <td>0.293545</td>\n",
       "      <td>36.012821</td>\n",
       "      <td>90.293419</td>\n",
       "      <td>1288</td>\n",
       "      <td>7</td>\n",
       "      <td>17.0</td>\n",
       "      <td>70355</td>\n",
       "      <td>SKLearnCoordinateClustering</td>\n",
       "      <td>10</td>\n",
       "      <td>50</td>\n",
       "    </tr>\n",
       "    <tr>\n",
       "      <th>3</th>\n",
       "      <td>36</td>\n",
       "      <td>1.646224e+06</td>\n",
       "      <td>0.278540</td>\n",
       "      <td>65.777778</td>\n",
       "      <td>97.948998</td>\n",
       "      <td>568</td>\n",
       "      <td>20</td>\n",
       "      <td>34.0</td>\n",
       "      <td>76414</td>\n",
       "      <td>SKLearnCoordinateClustering</td>\n",
       "      <td>20</td>\n",
       "      <td>50</td>\n",
       "    </tr>\n",
       "  </tbody>\n",
       "</table>\n",
       "</div>"
      ],
      "text/plain": [
       "  numClusters  CalinskiHarabaszScore  DaviesBouldinScore  averageClusterSize  \\\n",
       "0        1057           2.888929e+04            0.602208           56.362346   \n",
       "1         477           1.895077e+05            0.428178           57.360587   \n",
       "2         234           4.383865e+05            0.293545           36.012821   \n",
       "3          36           1.646224e+06            0.278540           65.777778   \n",
       "\n",
       "   clusterSizeStd maxClusterSize minClusterSize  medianClusterSize  \\\n",
       "0      134.804446           2135              4               22.0   \n",
       "1      102.897580           1983             10               34.0   \n",
       "2       90.293419           1288              7               17.0   \n",
       "3       97.948998            568             20               34.0   \n",
       "\n",
       "  noiseClusterSize                   str(model) min_samples  eps  \n",
       "0            19207  SKLearnCoordinateClustering          10  150  \n",
       "1            51421  SKLearnCoordinateClustering          20  150  \n",
       "2            70355  SKLearnCoordinateClustering          10   50  \n",
       "3            76414  SKLearnCoordinateClustering          20   50  "
      ]
     },
     "execution_count": 8,
     "metadata": {},
     "output_type": "execute_result"
    }
   ],
   "source": [
    "# the results of the grid-search are saved as csv under the path provided above\n",
    "resultDf = dbscanGridSearch.run(modelEvaluator, sortColumnName=\"numClusters\", ascending=False)\n",
    "resultDf.head()"
   ]
  },
  {
   "cell_type": "markdown",
   "metadata": {
    "pycharm": {
     "name": "#%% md\n"
    }
   },
   "source": [
    "The resulting data frame can be used to visualize the results through standard techniques,\n",
    "e.g. pivoting and heatmaps\n"
   ]
  },
  {
   "cell_type": "code",
   "execution_count": 9,
   "metadata": {
    "pycharm": {
     "name": "#%%\n"
    }
   },
   "outputs": [
    {
     "name": "stdout",
     "output_type": "stream",
     "text": [
      "calinskiHarabaszScores\n"
     ]
    },
    {
     "data": {
      "image/png": "[encoded data removed]",
      "text/plain": [
       "<Figure size 432x288 with 2 Axes>"
      ]
     },
     "metadata": {
      "needs_background": "light"
     },
     "output_type": "display_data"
    }
   ],
   "source": [
    "print(\"calinskiHarabaszScores\")\n",
    "chScoreHeatmap = resultDf.pivot(index=\"min_samples\", columns=\"eps\", values=\"CalinskiHarabaszScore\")\n",
    "sns.heatmap(chScoreHeatmap, annot=True)\n",
    "plt.show()"
   ]
  },
  {
   "cell_type": "code",
   "execution_count": 10,
   "metadata": {
    "pycharm": {
     "name": "#%%\n"
    }
   },
   "outputs": [
    {
     "name": "stdout",
     "output_type": "stream",
     "text": [
      "daviesBouldinScores\n"
     ]
    },
    {
     "data": {
      "image/png": "[encoded data removed]",
      "text/plain": [
       "<Figure size 432x288 with 2 Axes>"
      ]
     },
     "metadata": {
      "needs_background": "light"
     },
     "output_type": "display_data"
    }
   ],
   "source": [
    "print(\"daviesBouldinScores\")\n",
    "chScoreHeatmap = resultDf.pivot(index=\"min_samples\", columns=\"eps\", values=\"DaviesBouldinScore\")\n",
    "sns.heatmap(chScoreHeatmap, cmap=sns.cm.rocket_r, annot=True)\n",
    "plt.show()"
   ]
  },
  {
   "cell_type": "code",
   "execution_count": 11,
   "metadata": {
    "pycharm": {
     "name": "#%%\n"
    }
   },
   "outputs": [
    {
     "name": "stdout",
     "output_type": "stream",
     "text": [
      "numClusters\n"
     ]
    },
    {
     "data": {
      "image/png": "[encoded data removed]",
      "text/plain": [
       "<Figure size 432x288 with 2 Axes>"
      ]
     },
     "metadata": {
      "needs_background": "light"
     },
     "output_type": "display_data"
    }
   ],
   "source": [
    "print(\"numClusters\")\n",
    "numClustersHeatmap = resultDf.pivot(index=\"min_samples\", columns=\"eps\", values=\"numClusters\").astype(int)\n",
    "sns.heatmap(numClustersHeatmap, annot=True)  # something goes wrong with the datatype here, maybe b/c of zero clusters\n",
    "plt.show()"
   ]
  },
  {
   "cell_type": "markdown",
   "metadata": {
    "pycharm": {
     "name": "#%% md\n"
    }
   },
   "source": [
    "## Dealing with ground truth labels\n",
    "\n",
    "\n",
    "The evaluation classes can take ground truth labels for all coordinates and use them for calculating related metrics.\n",
    "However, such labels are typically hard to come by, especially if the coordinates cover a large area. Therefore the\n",
    "library includes utilities for extracting labels from ground truth provided in form of __cluster polygons in a selected\n",
    "region__. The central class for dealing with this kind of data is `ground_truth.PolygonAnnotatedCoordinates`,\n",
    "see examples below."
   ]
  },
  {
   "cell_type": "code",
   "execution_count": 12,
   "metadata": {
    "pycharm": {
     "name": "#%%\n"
    }
   },
   "outputs": [],
   "source": [
    "# The polygons can be read directly from a file, see the documentation for more details\n",
    "groundTruthClusters = PolygonAnnotatedCoordinates(coordinatesDF, c.datafile_path(\"sample\", stage=c.GROUND_TRUTH))"
   ]
  },
  {
   "cell_type": "markdown",
   "metadata": {
    "pycharm": {
     "name": "#%% md\n"
    }
   },
   "source": [
    "As usual, the object has methods for plotting and exporting to geodata frames.\n",
    "These can be very useful for inspecting the provided data"
   ]
  },
  {
   "cell_type": "code",
   "execution_count": 13,
   "metadata": {
    "pycharm": {
     "name": "#%%\n"
    }
   },
   "outputs": [
    {
     "data": {
      "image/png": "[encoded data removed]",
      "text/plain": [
       "<Figure size 432x288 with 1 Axes>"
      ]
     },
     "metadata": {
      "needs_background": "light"
     },
     "output_type": "display_data"
    },
    {
     "data": {
      "text/html": [
       "<div>\n",
       "<style scoped>\n",
       "    .dataframe tbody tr th:only-of-type {\n",
       "        vertical-align: middle;\n",
       "    }\n",
       "\n",
       "    .dataframe tbody tr th {\n",
       "        vertical-align: top;\n",
       "    }\n",
       "\n",
       "    .dataframe thead th {\n",
       "        text-align: right;\n",
       "    }\n",
       "</style>\n",
       "<table border=\"1\" class=\"dataframe\">\n",
       "  <thead>\n",
       "    <tr style=\"text-align: right;\">\n",
       "      <th></th>\n",
       "      <th>geometry</th>\n",
       "    </tr>\n",
       "    <tr>\n",
       "      <th>identifier</th>\n",
       "      <th></th>\n",
       "    </tr>\n",
       "  </thead>\n",
       "  <tbody>\n",
       "    <tr>\n",
       "      <th>-1</th>\n",
       "      <td>MULTIPOINT (4376132.864 1166694.757, 4376133.7...</td>\n",
       "    </tr>\n",
       "    <tr>\n",
       "      <th>0</th>\n",
       "      <td>MULTIPOINT (4407503.519 1182004.668, 4407516.7...</td>\n",
       "    </tr>\n",
       "    <tr>\n",
       "      <th>1</th>\n",
       "      <td>MULTIPOINT (4377765.260 1205034.312, 4377779.2...</td>\n",
       "    </tr>\n",
       "    <tr>\n",
       "      <th>2</th>\n",
       "      <td>MULTIPOINT (4379552.328 1188520.932, 4379560.1...</td>\n",
       "    </tr>\n",
       "    <tr>\n",
       "      <th>3</th>\n",
       "      <td>MULTIPOINT (4376405.982 1183903.847, 4376421.3...</td>\n",
       "    </tr>\n",
       "  </tbody>\n",
       "</table>\n",
       "</div>"
      ],
      "text/plain": [
       "                                                     geometry\n",
       "identifier                                                   \n",
       "-1          MULTIPOINT (4376132.864 1166694.757, 4376133.7...\n",
       " 0          MULTIPOINT (4407503.519 1182004.668, 4407516.7...\n",
       " 1          MULTIPOINT (4377765.260 1205034.312, 4377779.2...\n",
       " 2          MULTIPOINT (4379552.328 1188520.932, 4379560.1...\n",
       " 3          MULTIPOINT (4376405.982 1183903.847, 4376421.3..."
      ]
     },
     "execution_count": 13,
     "metadata": {},
     "output_type": "execute_result"
    }
   ],
   "source": [
    "groundTruthClusters.plot(markersize=0.2, cmap=\"plasma\")\n",
    "plt.show()\n",
    "\n",
    "groundTruthClusters.toGeoDF().head()"
   ]
  },
  {
   "cell_type": "markdown",
   "metadata": {
    "pycharm": {
     "name": "#%% md\n"
    }
   },
   "source": [
    "We can extract the coordinates and labels for the annotated region and use them in evaluation. In the following\n",
    "we will train our own adaption of DBSCAN, namely `boundedDBSCAN` on datapoints in the ground truth region and\n",
    "evaluate the results against the true labels"
   ]
  },
  {
   "cell_type": "code",
   "execution_count": 14,
   "metadata": {
    "pycharm": {
     "name": "#%%\n"
    }
   },
   "outputs": [
    {
     "name": "stderr",
     "output_type": "stream",
     "text": [
      "INFO:sensai.clustering.base.clustering:Fitting SKLearnCoordinateClustering to 78782 coordinate datapoints.\n"
     ]
    },
    {
     "name": "stderr",
     "output_type": "stream",
     "text": [
      "INFO:sensai.clustering.base.clustering:SKLearnCoordinateClustering found 57 clusters\n"
     ]
    },
    {
     "name": "stderr",
     "output_type": "stream",
     "text": [
      "INFO:sensai.util.tracking:Finished execution of getAll in 0.09s\n"
     ]
    },
    {
     "name": "stdout",
     "output_type": "stream",
     "text": [
      "Supervised evaluation metrics of bounded dbscan:\n",
      "{'AdjustedMutualInfoScore': 0.6497595011750351,\n",
      " 'AdjustedRandScore': 0.17987036763356976,\n",
      " 'FowlkesMallowsScore': 0.27503572733470316,\n",
      " 'VMeasureScore': 0.661727751698087,\n",
      " 'averageClusterSize': 197.94736842105263,\n",
      " 'clusterSizeStd': 252.18173765930052,\n",
      " 'maxClusterSize': 1983,\n",
      " 'medianClusterSize': 132.0,\n",
      " 'minClusterSize': 100,\n",
      " 'noiseClusterSize': 67499,\n",
      " 'numClusters': 57}\n"
     ]
    }
   ],
   "source": [
    "boundedDbscan = SKLearnCoordinateClustering(DBSCAN(eps=150, min_samples=20), minClusterSize=100)\n",
    "groundTruthCoordinates, groundTruthLabels = groundTruthClusters.getCoordinatesLabels()\n",
    "supervisedEvaluator = ClusteringModelSupervisedEvaluator(groundTruthCoordinates, trueLabels=groundTruthLabels)\n",
    "supervisedEvalStats = supervisedEvaluator.evalModel(boundedDbscan)\n",
    "\n",
    "print(\"Supervised evaluation metrics of bounded dbscan:\")\n",
    "pprint(supervisedEvalStats.getAll())"
   ]
  },
  {
   "cell_type": "code",
   "execution_count": 15,
   "metadata": {
    "pycharm": {
     "name": "#%%\n"
    }
   },
   "outputs": [
    {
     "name": "stderr",
     "output_type": "stream",
     "text": [
      "INFO:sensai.util.tracking:Finished execution of getAll in 0.02s\n"
     ]
    },
    {
     "name": "stderr",
     "output_type": "stream",
     "text": [
      "INFO:sensai.util.tracking:Finished execution of getAll in 0.02s\n"
     ]
    },
    {
     "name": "stdout",
     "output_type": "stream",
     "text": [
      "Unsupervised evaluation metrics of bounded dbscan:\n",
      "{'CalinskiHarabaszScore': 196718.30364210886,\n",
      " 'DaviesBouldinScore': 0.2807623964112674,\n",
      " 'averageClusterSize': 179.5744680851064,\n",
      " 'clusterSizeStd': 98.98522234019755,\n",
      " 'maxClusterSize': 499,\n",
      " 'medianClusterSize': 143.0,\n",
      " 'minClusterSize': 29,\n",
      " 'noiseClusterSize': 70342,\n",
      " 'numClusters': 47}\n",
      "\n",
      "Unsupervised evaluation metrics of annotated data\n",
      "{'CalinskiHarabaszScore': 313728.9671149488,\n",
      " 'DaviesBouldinScore': 0.248334574556368,\n",
      " 'averageClusterSize': 197.94736842105263,\n",
      " 'clusterSizeStd': 252.18173765930052,\n",
      " 'maxClusterSize': 1983,\n",
      " 'medianClusterSize': 132.0,\n",
      " 'minClusterSize': 100,\n",
      " 'noiseClusterSize': 67499,\n",
      " 'numClusters': 57}\n"
     ]
    }
   ],
   "source": [
    "print(\"Unsupervised evaluation metrics of bounded dbscan:\")\n",
    "pprint(ClusteringUnsupervisedEvalStats(groundTruthCoordinates, groundTruthLabels).getAll())\n",
    "print(\"\")\n",
    "print(\"Unsupervised evaluation metrics of annotated data\")\n",
    "pprint(ClusteringUnsupervisedEvalStats.fromModel(boundedDbscan).getAll())"
   ]
  },
  {
   "cell_type": "markdown",
   "metadata": {
    "pycharm": {
     "name": "#%% md\n"
    }
   },
   "source": [
    "The bounded dbscan is performing quite OK with the given parameters, although we see that it segregates clusters too\n",
    "much and has a general tendency towards smaller clusters. These tendencies can be seen visually by comparing the ground\n",
    "truth and the bounded dbscan cluster plots"
   ]
  },
  {
   "cell_type": "code",
   "execution_count": 16,
   "metadata": {
    "pycharm": {
     "name": "#%%\n"
    }
   },
   "outputs": [
    {
     "name": "stderr",
     "output_type": "stream",
     "text": [
      "INFO:sensai.clustering.base.clustering:Processed 0% of clusters\n"
     ]
    },
    {
     "name": "stderr",
     "output_type": "stream",
     "text": [
      "INFO:sensai.clustering.base.clustering:Processed 5% of clusters\n"
     ]
    },
    {
     "name": "stderr",
     "output_type": "stream",
     "text": [
      "INFO:sensai.clustering.base.clustering:Processed 10% of clusters\n"
     ]
    },
    {
     "name": "stderr",
     "output_type": "stream",
     "text": [
      "INFO:sensai.clustering.base.clustering:Processed 15% of clusters\n"
     ]
    },
    {
     "name": "stderr",
     "output_type": "stream",
     "text": [
      "INFO:sensai.util.tracking:Finished execution of toGeoDF in 1.37s\n"
     ]
    },
    {
     "data": {
      "image/png": "[encoded data removed]",
      "text/plain": [
       "<Figure size 432x288 with 1 Axes>"
      ]
     },
     "metadata": {
      "needs_background": "light"
     },
     "output_type": "display_data"
    },
    {
     "data": {
      "image/png": "[encoded data removed]",
      "text/plain": [
       "<Figure size 432x288 with 1 Axes>"
      ]
     },
     "metadata": {
      "needs_background": "light"
     },
     "output_type": "display_data"
    }
   ],
   "source": [
    "groundTruthClusters.plot(markersize=0.2, cmap=\"plasma\", includeNoise=False)\n",
    "\n",
    "boundedDbscan.plot(markersize=0.2, includeNoise=False)"
   ]
  },
  {
   "cell_type": "markdown",
   "metadata": {
    "pycharm": {
     "name": "#%% md\n"
    }
   },
   "source": [
    "## Supervised parameter estimation\n",
    "\n",
    "We can now bring everything together by running a grid search and evaluating against ground truth. Very little code\n",
    "is needed for that, so we will write it entirely in the cell below"
   ]
  },
  {
   "cell_type": "code",
   "execution_count": 17,
   "metadata": {
    "pycharm": {
     "name": "#%%\n"
    }
   },
   "outputs": [
    {
     "name": "stderr",
     "output_type": "stream",
     "text": [
      "INFO:sensai.hyperopt:Created GridSearch object for 9 parameter combinations\n"
     ]
    }
   ],
   "source": [
    "parameterOptions = {\n",
    "    \"min_samples\": [19, 20, 21],\n",
    "    \"eps\": [140, 150, 160]\n",
    "}\n",
    "\n",
    "supervisedGridSearch = GridSearch(dbscanFactory, parameterOptions,\n",
    "                                           csvResultsPath=os.path.join(c.temp, \"bounded_dbscan_grid_search.csv\"))"
   ]
  },
  {
   "cell_type": "code",
   "execution_count": 18,
   "metadata": {
    "pycharm": {
     "name": "#%%\n"
    }
   },
   "outputs": [
    {
     "name": "stderr",
     "output_type": "stream",
     "text": [
      "INFO:sensai.hyperopt.GridSearch:Evaluating {'min_samples': 19, 'eps': 140}\n"
     ]
    },
    {
     "name": "stderr",
     "output_type": "stream",
     "text": [
      "INFO:sensai.clustering.base.clustering:Fitting SKLearnCoordinateClustering to 78782 coordinate datapoints.\n"
     ]
    },
    {
     "name": "stderr",
     "output_type": "stream",
     "text": [
      "INFO:sensai.clustering.base.clustering:SKLearnCoordinateClustering found 462 clusters\n"
     ]
    },
    {
     "name": "stderr",
     "output_type": "stream",
     "text": [
      "INFO:sensai.util.tracking:Finished execution of getAll in 0.29s\n"
     ]
    },
    {
     "name": "stderr",
     "output_type": "stream",
     "text": [
      "INFO:sensai.util.tracking:Finished execution of _computeMetrics in 1.00s\n"
     ]
    },
    {
     "name": "stderr",
     "output_type": "stream",
     "text": [
      "INFO:sensai.hyperopt:Updated grid search result:\n",
      "   AdjustedMutualInfoScore  VMeasureScore  FowlkesMallowsScore  AdjustedRandScore numClusters  averageClusterSize  clusterSizeStd maxClusterSize minClusterSize  medianClusterSize noiseClusterSize                   str(model) min_samples  eps\n",
      "0                 0.337171       0.391642             0.088137           0.003466         462           53.848485      102.862824           1966              7               32.0            53904  SKLearnCoordinateClustering          19  140\n"
     ]
    },
    {
     "name": "stderr",
     "output_type": "stream",
     "text": [
      "INFO:sensai.hyperopt.GridSearch:Evaluating {'min_samples': 19, 'eps': 150}\n"
     ]
    },
    {
     "name": "stderr",
     "output_type": "stream",
     "text": [
      "INFO:sensai.clustering.base.clustering:Fitting SKLearnCoordinateClustering to 78782 coordinate datapoints.\n"
     ]
    },
    {
     "name": "stderr",
     "output_type": "stream",
     "text": [
      "INFO:sensai.clustering.base.clustering:SKLearnCoordinateClustering found 530 clusters\n"
     ]
    },
    {
     "name": "stderr",
     "output_type": "stream",
     "text": [
      "INFO:sensai.util.tracking:Finished execution of getAll in 0.34s\n"
     ]
    },
    {
     "name": "stderr",
     "output_type": "stream",
     "text": [
      "INFO:sensai.util.tracking:Finished execution of _computeMetrics in 1.07s\n"
     ]
    },
    {
     "name": "stderr",
     "output_type": "stream",
     "text": [
      "INFO:sensai.hyperopt:Updated grid search result:\n",
      "   AdjustedMutualInfoScore  VMeasureScore  FowlkesMallowsScore  AdjustedRandScore numClusters  averageClusterSize  clusterSizeStd maxClusterSize minClusterSize  medianClusterSize noiseClusterSize                   str(model) min_samples  eps\n",
      "0                 0.337171       0.391642             0.088137           0.003466         462           53.848485      102.862824           1966              7               32.0            53904  SKLearnCoordinateClustering          19  140\n",
      "1                 0.305778       0.359296             0.082667           0.003835         530           56.394340      100.174928           1988             14               33.0            48893  SKLearnCoordinateClustering          19  150\n"
     ]
    },
    {
     "name": "stderr",
     "output_type": "stream",
     "text": [
      "INFO:sensai.hyperopt.GridSearch:Evaluating {'min_samples': 19, 'eps': 160}\n"
     ]
    },
    {
     "name": "stderr",
     "output_type": "stream",
     "text": [
      "INFO:sensai.clustering.base.clustering:Fitting SKLearnCoordinateClustering to 78782 coordinate datapoints.\n"
     ]
    },
    {
     "name": "stderr",
     "output_type": "stream",
     "text": [
      "INFO:sensai.clustering.base.clustering:SKLearnCoordinateClustering found 569 clusters\n"
     ]
    },
    {
     "name": "stderr",
     "output_type": "stream",
     "text": [
      "INFO:sensai.util.tracking:Finished execution of getAll in 0.38s\n"
     ]
    },
    {
     "name": "stderr",
     "output_type": "stream",
     "text": [
      "INFO:sensai.util.tracking:Finished execution of _computeMetrics in 1.21s\n"
     ]
    },
    {
     "name": "stderr",
     "output_type": "stream",
     "text": [
      "INFO:sensai.hyperopt:Updated grid search result:\n",
      "   AdjustedMutualInfoScore  VMeasureScore  FowlkesMallowsScore  AdjustedRandScore numClusters  averageClusterSize  clusterSizeStd maxClusterSize minClusterSize  medianClusterSize noiseClusterSize                   str(model) min_samples  eps\n",
      "0                 0.337171       0.391642             0.088137           0.003466         462           53.848485      102.862824           1966              7               32.0            53904  SKLearnCoordinateClustering          19  140\n",
      "1                 0.305778       0.359296             0.082667           0.003835         530           56.394340      100.174928           1988             14               33.0            48893  SKLearnCoordinateClustering          19  150\n",
      "2                 0.275955       0.326911             0.077053           0.002975         569           61.312830      103.038054           2023             12               36.0            43895  SKLearnCoordinateClustering          19  160\n"
     ]
    },
    {
     "name": "stderr",
     "output_type": "stream",
     "text": [
      "INFO:sensai.hyperopt.GridSearch:Evaluating {'min_samples': 20, 'eps': 140}\n"
     ]
    },
    {
     "name": "stderr",
     "output_type": "stream",
     "text": [
      "INFO:sensai.clustering.base.clustering:Fitting SKLearnCoordinateClustering to 78782 coordinate datapoints.\n"
     ]
    },
    {
     "name": "stderr",
     "output_type": "stream",
     "text": [
      "INFO:sensai.clustering.base.clustering:SKLearnCoordinateClustering found 406 clusters\n"
     ]
    },
    {
     "name": "stderr",
     "output_type": "stream",
     "text": [
      "INFO:sensai.util.tracking:Finished execution of getAll in 0.26s\n"
     ]
    },
    {
     "name": "stderr",
     "output_type": "stream",
     "text": [
      "INFO:sensai.util.tracking:Finished execution of _computeMetrics in 0.97s\n"
     ]
    },
    {
     "name": "stderr",
     "output_type": "stream",
     "text": [
      "INFO:sensai.hyperopt:Updated grid search result:\n",
      "   AdjustedMutualInfoScore  VMeasureScore  FowlkesMallowsScore  AdjustedRandScore numClusters  averageClusterSize  clusterSizeStd maxClusterSize minClusterSize  medianClusterSize noiseClusterSize                   str(model) min_samples  eps\n",
      "0                 0.359844       0.412557             0.094061           0.004357         406           55.945813      108.367133           1965             14               32.5            56068  SKLearnCoordinateClustering          20  140\n",
      "1                 0.337171       0.391642             0.088137           0.003466         462           53.848485      102.862824           1966              7               32.0            53904  SKLearnCoordinateClustering          19  140\n",
      "2                 0.305778       0.359296             0.082667           0.003835         530           56.394340      100.174928           1988             14               33.0            48893  SKLearnCoordinateClustering          19  150\n",
      "3                 0.275955       0.326911             0.077053           0.002975         569           61.312830      103.038054           2023             12               36.0            43895  SKLearnCoordinateClustering          19  160\n"
     ]
    },
    {
     "name": "stderr",
     "output_type": "stream",
     "text": [
      "INFO:sensai.hyperopt.GridSearch:Evaluating {'min_samples': 20, 'eps': 150}\n"
     ]
    },
    {
     "name": "stderr",
     "output_type": "stream",
     "text": [
      "INFO:sensai.clustering.base.clustering:Fitting SKLearnCoordinateClustering to 78782 coordinate datapoints.\n"
     ]
    },
    {
     "name": "stderr",
     "output_type": "stream",
     "text": [
      "INFO:sensai.clustering.base.clustering:SKLearnCoordinateClustering found 477 clusters\n"
     ]
    },
    {
     "name": "stderr",
     "output_type": "stream",
     "text": [
      "INFO:sensai.util.tracking:Finished execution of getAll in 0.31s\n"
     ]
    },
    {
     "name": "stderr",
     "output_type": "stream",
     "text": [
      "INFO:sensai.util.tracking:Finished execution of _computeMetrics in 1.04s\n"
     ]
    },
    {
     "name": "stderr",
     "output_type": "stream",
     "text": [
      "INFO:sensai.hyperopt:Updated grid search result:\n",
      "   AdjustedMutualInfoScore  VMeasureScore  FowlkesMallowsScore  AdjustedRandScore numClusters  averageClusterSize  clusterSizeStd maxClusterSize minClusterSize  medianClusterSize noiseClusterSize                   str(model) min_samples  eps\n",
      "0                 0.359844       0.412557             0.094061           0.004357         406           55.945813      108.367133           1965             14               32.5            56068  SKLearnCoordinateClustering          20  140\n",
      "1                 0.337171       0.391642             0.088137           0.003466         462           53.848485      102.862824           1966              7               32.0            53904  SKLearnCoordinateClustering          19  140\n",
      "2                 0.325457       0.378548             0.087130           0.004546         477           57.360587      102.897111           1983             10               34.0            51421  SKLearnCoordinateClustering          20  150\n",
      "3                 0.305778       0.359296             0.082667           0.003835         530           56.394340      100.174928           1988             14               33.0            48893  SKLearnCoordinateClustering          19  150\n",
      "4                 0.275955       0.326911             0.077053           0.002975         569           61.312830      103.038054           2023             12               36.0            43895  SKLearnCoordinateClustering          19  160\n"
     ]
    },
    {
     "name": "stderr",
     "output_type": "stream",
     "text": [
      "INFO:sensai.hyperopt.GridSearch:Evaluating {'min_samples': 20, 'eps': 160}\n"
     ]
    },
    {
     "name": "stderr",
     "output_type": "stream",
     "text": [
      "INFO:sensai.clustering.base.clustering:Fitting SKLearnCoordinateClustering to 78782 coordinate datapoints.\n"
     ]
    },
    {
     "name": "stderr",
     "output_type": "stream",
     "text": [
      "INFO:sensai.clustering.base.clustering:SKLearnCoordinateClustering found 528 clusters\n"
     ]
    },
    {
     "name": "stderr",
     "output_type": "stream",
     "text": [
      "INFO:sensai.util.tracking:Finished execution of getAll in 0.36s\n"
     ]
    },
    {
     "name": "stderr",
     "output_type": "stream",
     "text": [
      "INFO:sensai.util.tracking:Finished execution of _computeMetrics in 1.10s\n"
     ]
    },
    {
     "name": "stderr",
     "output_type": "stream",
     "text": [
      "INFO:sensai.hyperopt:Updated grid search result:\n",
      "   AdjustedMutualInfoScore  VMeasureScore  FowlkesMallowsScore  AdjustedRandScore numClusters  averageClusterSize  clusterSizeStd maxClusterSize minClusterSize  medianClusterSize noiseClusterSize                   str(model) min_samples  eps\n",
      "0                 0.359844       0.412557             0.094061           0.004357         406           55.945813      108.367133           1965             14               32.5            56068  SKLearnCoordinateClustering          20  140\n",
      "1                 0.337171       0.391642             0.088137           0.003466         462           53.848485      102.862824           1966              7               32.0            53904  SKLearnCoordinateClustering          19  140\n",
      "2                 0.325457       0.378548             0.087130           0.004546         477           57.360587      102.897111           1983             10               34.0            51421  SKLearnCoordinateClustering          20  150\n",
      "3                 0.305778       0.359296             0.082667           0.003835         530           56.394340      100.174928           1988             14               33.0            48893  SKLearnCoordinateClustering          19  150\n",
      "4                 0.294439       0.345625             0.081099           0.003768         528           61.195076      103.120378           2006             12               37.0            46471  SKLearnCoordinateClustering          20  160\n",
      "5                 0.275955       0.326911             0.077053           0.002975         569           61.312830      103.038054           2023             12               36.0            43895  SKLearnCoordinateClustering          19  160\n"
     ]
    },
    {
     "name": "stderr",
     "output_type": "stream",
     "text": [
      "INFO:sensai.hyperopt.GridSearch:Evaluating {'min_samples': 21, 'eps': 140}\n"
     ]
    },
    {
     "name": "stderr",
     "output_type": "stream",
     "text": [
      "INFO:sensai.clustering.base.clustering:Fitting SKLearnCoordinateClustering to 78782 coordinate datapoints.\n"
     ]
    },
    {
     "name": "stderr",
     "output_type": "stream",
     "text": [
      "INFO:sensai.clustering.base.clustering:SKLearnCoordinateClustering found 356 clusters\n"
     ]
    },
    {
     "name": "stderr",
     "output_type": "stream",
     "text": [
      "INFO:sensai.util.tracking:Finished execution of getAll in 0.23s\n"
     ]
    },
    {
     "name": "stderr",
     "output_type": "stream",
     "text": [
      "INFO:sensai.util.tracking:Finished execution of _computeMetrics in 0.94s\n"
     ]
    },
    {
     "name": "stderr",
     "output_type": "stream",
     "text": [
      "INFO:sensai.hyperopt:Updated grid search result:\n",
      "   AdjustedMutualInfoScore  VMeasureScore  FowlkesMallowsScore  AdjustedRandScore numClusters  averageClusterSize  clusterSizeStd maxClusterSize minClusterSize  medianClusterSize noiseClusterSize                   str(model) min_samples  eps\n",
      "0                 0.382680       0.433131             0.099087           0.004253         356           57.724719      114.153418           1958              8               33.0            58232  SKLearnCoordinateClustering          21  140\n",
      "1                 0.359844       0.412557             0.094061           0.004357         406           55.945813      108.367133           1965             14               32.5            56068  SKLearnCoordinateClustering          20  140\n",
      "2                 0.337171       0.391642             0.088137           0.003466         462           53.848485      102.862824           1966              7               32.0            53904  SKLearnCoordinateClustering          19  140\n",
      "3                 0.325457       0.378548             0.087130           0.004546         477           57.360587      102.897111           1983             10               34.0            51421  SKLearnCoordinateClustering          20  150\n",
      "4                 0.305778       0.359296             0.082667           0.003835         530           56.394340      100.174928           1988             14               33.0            48893  SKLearnCoordinateClustering          19  150\n",
      "5                 0.294439       0.345625             0.081099           0.003768         528           61.195076      103.120378           2006             12               37.0            46471  SKLearnCoordinateClustering          20  160\n",
      "6                 0.275955       0.326911             0.077053           0.002975         569           61.312830      103.038054           2023             12               36.0            43895  SKLearnCoordinateClustering          19  160\n"
     ]
    },
    {
     "name": "stderr",
     "output_type": "stream",
     "text": [
      "INFO:sensai.hyperopt.GridSearch:Evaluating {'min_samples': 21, 'eps': 150}\n"
     ]
    },
    {
     "name": "stderr",
     "output_type": "stream",
     "text": [
      "INFO:sensai.clustering.base.clustering:Fitting SKLearnCoordinateClustering to 78782 coordinate datapoints.\n"
     ]
    },
    {
     "name": "stderr",
     "output_type": "stream",
     "text": [
      "INFO:sensai.clustering.base.clustering:SKLearnCoordinateClustering found 433 clusters\n"
     ]
    },
    {
     "name": "stderr",
     "output_type": "stream",
     "text": [
      "INFO:sensai.util.tracking:Finished execution of getAll in 0.28s\n"
     ]
    },
    {
     "name": "stderr",
     "output_type": "stream",
     "text": [
      "INFO:sensai.util.tracking:Finished execution of _computeMetrics in 1.01s\n"
     ]
    },
    {
     "name": "stderr",
     "output_type": "stream",
     "text": [
      "INFO:sensai.hyperopt:Updated grid search result:\n",
      "   AdjustedMutualInfoScore  VMeasureScore  FowlkesMallowsScore  AdjustedRandScore numClusters  averageClusterSize  clusterSizeStd maxClusterSize minClusterSize  medianClusterSize noiseClusterSize                   str(model) min_samples  eps\n",
      "0                 0.382680       0.433131             0.099087           0.004253         356           57.724719      114.153418           1958              8               33.0            58232  SKLearnCoordinateClustering          21  140\n",
      "1                 0.359844       0.412557             0.094061           0.004357         406           55.945813      108.367133           1965             14               32.5            56068  SKLearnCoordinateClustering          20  140\n",
      "2                 0.344340       0.396441             0.091865           0.005319         433           58.344111      106.779193           1980             12               34.0            53519  SKLearnCoordinateClustering          21  150\n",
      "3                 0.337171       0.391642             0.088137           0.003466         462           53.848485      102.862824           1966              7               32.0            53904  SKLearnCoordinateClustering          19  140\n",
      "4                 0.325457       0.378548             0.087130           0.004546         477           57.360587      102.897111           1983             10               34.0            51421  SKLearnCoordinateClustering          20  150\n",
      "5                 0.305778       0.359296             0.082667           0.003835         530           56.394340      100.174928           1988             14               33.0            48893  SKLearnCoordinateClustering          19  150\n",
      "6                 0.294439       0.345625             0.081099           0.003768         528           61.195076      103.120378           2006             12               37.0            46471  SKLearnCoordinateClustering          20  160\n",
      "7                 0.275955       0.326911             0.077053           0.002975         569           61.312830      103.038054           2023             12               36.0            43895  SKLearnCoordinateClustering          19  160\n"
     ]
    },
    {
     "name": "stderr",
     "output_type": "stream",
     "text": [
      "INFO:sensai.hyperopt.GridSearch:Evaluating {'min_samples': 21, 'eps': 160}\n"
     ]
    },
    {
     "name": "stderr",
     "output_type": "stream",
     "text": [
      "INFO:sensai.clustering.base.clustering:Fitting SKLearnCoordinateClustering to 78782 coordinate datapoints.\n"
     ]
    },
    {
     "name": "stderr",
     "output_type": "stream",
     "text": [
      "INFO:sensai.clustering.base.clustering:SKLearnCoordinateClustering found 481 clusters\n"
     ]
    },
    {
     "name": "stderr",
     "output_type": "stream",
     "text": [
      "INFO:sensai.util.tracking:Finished execution of getAll in 0.33s\n"
     ]
    },
    {
     "name": "stderr",
     "output_type": "stream",
     "text": [
      "INFO:sensai.util.tracking:Finished execution of _computeMetrics in 1.14s\n"
     ]
    },
    {
     "name": "stderr",
     "output_type": "stream",
     "text": [
      "INFO:sensai.hyperopt:Updated grid search result:\n",
      "   AdjustedMutualInfoScore  VMeasureScore  FowlkesMallowsScore  AdjustedRandScore numClusters  averageClusterSize  clusterSizeStd maxClusterSize minClusterSize  medianClusterSize noiseClusterSize                   str(model) min_samples  eps\n",
      "0                 0.382680       0.433131             0.099087           0.004253         356           57.724719      114.153418           1958              8               33.0            58232  SKLearnCoordinateClustering          21  140\n",
      "1                 0.359844       0.412557             0.094061           0.004357         406           55.945813      108.367133           1965             14               32.5            56068  SKLearnCoordinateClustering          20  140\n",
      "2                 0.344340       0.396441             0.091865           0.005319         433           58.344111      106.779193           1980             12               34.0            53519  SKLearnCoordinateClustering          21  150\n",
      "3                 0.337171       0.391642             0.088137           0.003466         462           53.848485      102.862824           1966              7               32.0            53904  SKLearnCoordinateClustering          19  140\n",
      "4                 0.325457       0.378548             0.087130           0.004546         477           57.360587      102.897111           1983             10               34.0            51421  SKLearnCoordinateClustering          20  150\n",
      "5                 0.314100       0.364825             0.085829           0.004605         481           62.022869      105.878767           2005             12               37.0            48949  SKLearnCoordinateClustering          21  160\n",
      "6                 0.305778       0.359296             0.082667           0.003835         530           56.394340      100.174928           1988             14               33.0            48893  SKLearnCoordinateClustering          19  150\n",
      "7                 0.294439       0.345625             0.081099           0.003768         528           61.195076      103.120378           2006             12               37.0            46471  SKLearnCoordinateClustering          20  160\n",
      "8                 0.275955       0.326911             0.077053           0.002975         569           61.312830      103.038054           2023             12               36.0            43895  SKLearnCoordinateClustering          19  160\n"
     ]
    },
    {
     "data": {
      "text/html": [
       "<div>\n",
       "<style scoped>\n",
       "    .dataframe tbody tr th:only-of-type {\n",
       "        vertical-align: middle;\n",
       "    }\n",
       "\n",
       "    .dataframe tbody tr th {\n",
       "        vertical-align: top;\n",
       "    }\n",
       "\n",
       "    .dataframe thead th {\n",
       "        text-align: right;\n",
       "    }\n",
       "</style>\n",
       "<table border=\"1\" class=\"dataframe\">\n",
       "  <thead>\n",
       "    <tr style=\"text-align: right;\">\n",
       "      <th></th>\n",
       "      <th>AdjustedMutualInfoScore</th>\n",
       "      <th>VMeasureScore</th>\n",
       "      <th>FowlkesMallowsScore</th>\n",
       "      <th>AdjustedRandScore</th>\n",
       "      <th>numClusters</th>\n",
       "      <th>averageClusterSize</th>\n",
       "      <th>clusterSizeStd</th>\n",
       "      <th>maxClusterSize</th>\n",
       "      <th>minClusterSize</th>\n",
       "      <th>medianClusterSize</th>\n",
       "      <th>noiseClusterSize</th>\n",
       "      <th>str(model)</th>\n",
       "      <th>min_samples</th>\n",
       "      <th>eps</th>\n",
       "    </tr>\n",
       "  </thead>\n",
       "  <tbody>\n",
       "    <tr>\n",
       "      <th>0</th>\n",
       "      <td>0.382680</td>\n",
       "      <td>0.433131</td>\n",
       "      <td>0.099087</td>\n",
       "      <td>0.004253</td>\n",
       "      <td>356</td>\n",
       "      <td>57.724719</td>\n",
       "      <td>114.153418</td>\n",
       "      <td>1958</td>\n",
       "      <td>8</td>\n",
       "      <td>33.0</td>\n",
       "      <td>58232</td>\n",
       "      <td>SKLearnCoordinateClustering</td>\n",
       "      <td>21</td>\n",
       "      <td>140</td>\n",
       "    </tr>\n",
       "    <tr>\n",
       "      <th>1</th>\n",
       "      <td>0.359844</td>\n",
       "      <td>0.412557</td>\n",
       "      <td>0.094061</td>\n",
       "      <td>0.004357</td>\n",
       "      <td>406</td>\n",
       "      <td>55.945813</td>\n",
       "      <td>108.367133</td>\n",
       "      <td>1965</td>\n",
       "      <td>14</td>\n",
       "      <td>32.5</td>\n",
       "      <td>56068</td>\n",
       "      <td>SKLearnCoordinateClustering</td>\n",
       "      <td>20</td>\n",
       "      <td>140</td>\n",
       "    </tr>\n",
       "    <tr>\n",
       "      <th>2</th>\n",
       "      <td>0.344340</td>\n",
       "      <td>0.396441</td>\n",
       "      <td>0.091865</td>\n",
       "      <td>0.005319</td>\n",
       "      <td>433</td>\n",
       "      <td>58.344111</td>\n",
       "      <td>106.779193</td>\n",
       "      <td>1980</td>\n",
       "      <td>12</td>\n",
       "      <td>34.0</td>\n",
       "      <td>53519</td>\n",
       "      <td>SKLearnCoordinateClustering</td>\n",
       "      <td>21</td>\n",
       "      <td>150</td>\n",
       "    </tr>\n",
       "    <tr>\n",
       "      <th>3</th>\n",
       "      <td>0.337171</td>\n",
       "      <td>0.391642</td>\n",
       "      <td>0.088137</td>\n",
       "      <td>0.003466</td>\n",
       "      <td>462</td>\n",
       "      <td>53.848485</td>\n",
       "      <td>102.862824</td>\n",
       "      <td>1966</td>\n",
       "      <td>7</td>\n",
       "      <td>32.0</td>\n",
       "      <td>53904</td>\n",
       "      <td>SKLearnCoordinateClustering</td>\n",
       "      <td>19</td>\n",
       "      <td>140</td>\n",
       "    </tr>\n",
       "    <tr>\n",
       "      <th>4</th>\n",
       "      <td>0.325457</td>\n",
       "      <td>0.378548</td>\n",
       "      <td>0.087130</td>\n",
       "      <td>0.004546</td>\n",
       "      <td>477</td>\n",
       "      <td>57.360587</td>\n",
       "      <td>102.897111</td>\n",
       "      <td>1983</td>\n",
       "      <td>10</td>\n",
       "      <td>34.0</td>\n",
       "      <td>51421</td>\n",
       "      <td>SKLearnCoordinateClustering</td>\n",
       "      <td>20</td>\n",
       "      <td>150</td>\n",
       "    </tr>\n",
       "    <tr>\n",
       "      <th>5</th>\n",
       "      <td>0.314100</td>\n",
       "      <td>0.364825</td>\n",
       "      <td>0.085829</td>\n",
       "      <td>0.004605</td>\n",
       "      <td>481</td>\n",
       "      <td>62.022869</td>\n",
       "      <td>105.878767</td>\n",
       "      <td>2005</td>\n",
       "      <td>12</td>\n",
       "      <td>37.0</td>\n",
       "      <td>48949</td>\n",
       "      <td>SKLearnCoordinateClustering</td>\n",
       "      <td>21</td>\n",
       "      <td>160</td>\n",
       "    </tr>\n",
       "    <tr>\n",
       "      <th>6</th>\n",
       "      <td>0.305778</td>\n",
       "      <td>0.359296</td>\n",
       "      <td>0.082667</td>\n",
       "      <td>0.003835</td>\n",
       "      <td>530</td>\n",
       "      <td>56.394340</td>\n",
       "      <td>100.174928</td>\n",
       "      <td>1988</td>\n",
       "      <td>14</td>\n",
       "      <td>33.0</td>\n",
       "      <td>48893</td>\n",
       "      <td>SKLearnCoordinateClustering</td>\n",
       "      <td>19</td>\n",
       "      <td>150</td>\n",
       "    </tr>\n",
       "    <tr>\n",
       "      <th>7</th>\n",
       "      <td>0.294439</td>\n",
       "      <td>0.345625</td>\n",
       "      <td>0.081099</td>\n",
       "      <td>0.003768</td>\n",
       "      <td>528</td>\n",
       "      <td>61.195076</td>\n",
       "      <td>103.120378</td>\n",
       "      <td>2006</td>\n",
       "      <td>12</td>\n",
       "      <td>37.0</td>\n",
       "      <td>46471</td>\n",
       "      <td>SKLearnCoordinateClustering</td>\n",
       "      <td>20</td>\n",
       "      <td>160</td>\n",
       "    </tr>\n",
       "    <tr>\n",
       "      <th>8</th>\n",
       "      <td>0.275955</td>\n",
       "      <td>0.326911</td>\n",
       "      <td>0.077053</td>\n",
       "      <td>0.002975</td>\n",
       "      <td>569</td>\n",
       "      <td>61.312830</td>\n",
       "      <td>103.038054</td>\n",
       "      <td>2023</td>\n",
       "      <td>12</td>\n",
       "      <td>36.0</td>\n",
       "      <td>43895</td>\n",
       "      <td>SKLearnCoordinateClustering</td>\n",
       "      <td>19</td>\n",
       "      <td>160</td>\n",
       "    </tr>\n",
       "  </tbody>\n",
       "</table>\n",
       "</div>"
      ],
      "text/plain": [
       "   AdjustedMutualInfoScore  VMeasureScore  FowlkesMallowsScore  \\\n",
       "0                 0.382680       0.433131             0.099087   \n",
       "1                 0.359844       0.412557             0.094061   \n",
       "2                 0.344340       0.396441             0.091865   \n",
       "3                 0.337171       0.391642             0.088137   \n",
       "4                 0.325457       0.378548             0.087130   \n",
       "5                 0.314100       0.364825             0.085829   \n",
       "6                 0.305778       0.359296             0.082667   \n",
       "7                 0.294439       0.345625             0.081099   \n",
       "8                 0.275955       0.326911             0.077053   \n",
       "\n",
       "   AdjustedRandScore numClusters  averageClusterSize  clusterSizeStd  \\\n",
       "0           0.004253         356           57.724719      114.153418   \n",
       "1           0.004357         406           55.945813      108.367133   \n",
       "2           0.005319         433           58.344111      106.779193   \n",
       "3           0.003466         462           53.848485      102.862824   \n",
       "4           0.004546         477           57.360587      102.897111   \n",
       "5           0.004605         481           62.022869      105.878767   \n",
       "6           0.003835         530           56.394340      100.174928   \n",
       "7           0.003768         528           61.195076      103.120378   \n",
       "8           0.002975         569           61.312830      103.038054   \n",
       "\n",
       "  maxClusterSize minClusterSize  medianClusterSize noiseClusterSize  \\\n",
       "0           1958              8               33.0            58232   \n",
       "1           1965             14               32.5            56068   \n",
       "2           1980             12               34.0            53519   \n",
       "3           1966              7               32.0            53904   \n",
       "4           1983             10               34.0            51421   \n",
       "5           2005             12               37.0            48949   \n",
       "6           1988             14               33.0            48893   \n",
       "7           2006             12               37.0            46471   \n",
       "8           2023             12               36.0            43895   \n",
       "\n",
       "                    str(model) min_samples  eps  \n",
       "0  SKLearnCoordinateClustering          21  140  \n",
       "1  SKLearnCoordinateClustering          20  140  \n",
       "2  SKLearnCoordinateClustering          21  150  \n",
       "3  SKLearnCoordinateClustering          19  140  \n",
       "4  SKLearnCoordinateClustering          20  150  \n",
       "5  SKLearnCoordinateClustering          21  160  \n",
       "6  SKLearnCoordinateClustering          19  150  \n",
       "7  SKLearnCoordinateClustering          20  160  \n",
       "8  SKLearnCoordinateClustering          19  160  "
      ]
     },
     "execution_count": 18,
     "metadata": {},
     "output_type": "execute_result"
    }
   ],
   "source": [
    "# we will sort the results by mutual information store\n",
    "supervisedResultDf = supervisedGridSearch.run(supervisedEvaluator, sortColumnName=AdjustedMutualInfoScore.name,\n",
    "                                              ascending=False)\n",
    "supervisedResultDf"
   ]
  },
  {
   "cell_type": "markdown",
   "metadata": {
    "pycharm": {
     "name": "#%% md\n"
    }
   },
   "source": [
    "It seems like we were lucky to already have picked the optimal parameters for the dbscan above.\n",
    "It is also interesting to notice that the supervised scores are in\n",
    "stark disagreement with the unsupervised ones"
   ]
  }
 ],
 "metadata": {
  "kernelspec": {
   "display_name": "Python 3",
   "language": "python",
   "name": "python3"
  },
  "language_info": {
   "codemirror_mode": {
    "name": "ipython",
    "version": 3
   },
   "file_extension": ".py",
   "mimetype": "text/x-python",
   "name": "python",
   "nbconvert_exporter": "python",
   "pygments_lexer": "ipython3",
   "version": "3.7.7"
  }
 },
 "nbformat": 4,
 "nbformat_minor": 1
}
